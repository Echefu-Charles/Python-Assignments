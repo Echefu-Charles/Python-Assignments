{
 "cells": [
  {
   "cell_type": "code",
   "execution_count": 2,
   "metadata": {},
   "outputs": [],
   "source": [
    "A= \"My name is Charles and I love Data Science Nigeria\"\n",
    "B= 'Welcome'\n",
    "C= 'back Home'"
   ]
  },
  {
   "cell_type": "code",
   "execution_count": 27,
   "metadata": {},
   "outputs": [
    {
     "name": "stdout",
     "output_type": "stream",
     "text": [
      "11\n",
      "5\n"
     ]
    }
   ],
   "source": [
    "#using find()\n",
    "print(A.find('C'))\n",
    "print(B.find('m'))"
   ]
  },
  {
   "cell_type": "code",
   "execution_count": 28,
   "metadata": {},
   "outputs": [
    {
     "name": "stdout",
     "output_type": "stream",
     "text": [
      "MY NAME IS CHARLES AND I LOVE DATA SCIENCE NIGERIA\n",
      "BACK HOME\n"
     ]
    }
   ],
   "source": [
    "#using upper()\n",
    "print(A.upper())\n",
    "print(C.upper())"
   ]
  },
  {
   "cell_type": "code",
   "execution_count": 29,
   "metadata": {},
   "outputs": [
    {
     "name": "stdout",
     "output_type": "stream",
     "text": [
      "my name is charles and i love data science nigeria\n",
      "welcome\n"
     ]
    }
   ],
   "source": [
    "#using lower()\n",
    "print(A.lower())\n",
    "print(B.lower())"
   ]
  },
  {
   "cell_type": "code",
   "execution_count": 31,
   "metadata": {},
   "outputs": [
    {
     "name": "stdout",
     "output_type": "stream",
     "text": [
      "('My name is Charles ', 'and', ' I love Data Science Nigeria')\n",
      "('Wel', 'c', 'ome')\n"
     ]
    }
   ],
   "source": [
    "#using partition()\n",
    "print(A.partition('and'))\n",
    "print(B.partition('c'))"
   ]
  },
  {
   "cell_type": "code",
   "execution_count": 33,
   "metadata": {},
   "outputs": [
    {
     "name": "stdout",
     "output_type": "stream",
     "text": [
      "False\n",
      "True\n"
     ]
    }
   ],
   "source": [
    "#using startswith()\n",
    "\n",
    "print(A.startswith('b'))\n",
    "print(C.startswith('b'))"
   ]
  },
  {
   "cell_type": "code",
   "execution_count": 35,
   "metadata": {},
   "outputs": [
    {
     "name": "stdout",
     "output_type": "stream",
     "text": [
      "wELCOME\n",
      "mY NAME IS cHARLES AND i LOVE dATA sCIENCE nIGERIA\n"
     ]
    }
   ],
   "source": [
    "#using swapcase()\n",
    "print(B.swapcase())\n",
    "\n",
    "print(A.swapcase())"
   ]
  },
  {
   "cell_type": "code",
   "execution_count": 37,
   "metadata": {},
   "outputs": [
    {
     "name": "stdout",
     "output_type": "stream",
     "text": [
      "2\n",
      "2\n"
     ]
    }
   ],
   "source": [
    "#using count()\n",
    "print(A.count('s'))\n",
    "print(B.count('e'))"
   ]
  },
  {
   "cell_type": "code",
   "execution_count": 39,
   "metadata": {},
   "outputs": [
    {
     "name": "stdout",
     "output_type": "stream",
     "text": [
      "b'My name is Charles and I love Data Science Nigeria'\n",
      "b'back Home'\n"
     ]
    }
   ],
   "source": [
    "#using encode()\n",
    "print(A.encode())\n",
    "print(C.encode())"
   ]
  },
  {
   "cell_type": "code",
   "execution_count": 43,
   "metadata": {},
   "outputs": [
    {
     "name": "stdout",
     "output_type": "stream",
     "text": [
      "2\n",
      "4\n"
     ]
    }
   ],
   "source": [
    "#using index()\n",
    "print(B.index('l'))\n",
    "\n",
    "print(C.index(' '))"
   ]
  },
  {
   "cell_type": "code",
   "execution_count": 45,
   "metadata": {},
   "outputs": [
    {
     "name": "stdout",
     "output_type": "stream",
     "text": [
      "tWelcomeo\n",
      "tback Homehback Homeaback Homenback Homekback Home back Homeyback Homeoback Homeu\n"
     ]
    }
   ],
   "source": [
    "#using join()\n",
    "print(B.join('to'))\n",
    "\n",
    "print(C.join('thank you'))"
   ]
  },
  {
   "cell_type": "code",
   "execution_count": null,
   "metadata": {},
   "outputs": [],
   "source": []
  }
 ],
 "metadata": {
  "kernelspec": {
   "display_name": "Python 3",
   "language": "python",
   "name": "python3"
  },
  "language_info": {
   "codemirror_mode": {
    "name": "ipython",
    "version": 3
   },
   "file_extension": ".py",
   "mimetype": "text/x-python",
   "name": "python",
   "nbconvert_exporter": "python",
   "pygments_lexer": "ipython3",
   "version": "3.6.4"
  }
 },
 "nbformat": 4,
 "nbformat_minor": 2
}
